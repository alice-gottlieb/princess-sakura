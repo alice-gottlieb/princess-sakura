{
 "cells": [
  {
   "cell_type": "markdown",
   "metadata": {},
   "source": [
    "# Princess Sakura Main #"
   ]
  },
  {
   "cell_type": "markdown",
   "metadata": {},
   "source": [
    "## Imports ##"
   ]
  },
  {
   "cell_type": "code",
   "execution_count": 3,
   "metadata": {},
   "outputs": [],
   "source": [
    "import numpy as np\n",
    "import pandas as pd\n",
    "import matplotlib.pyplot as plt\n",
    "import seaborn as sns\n",
    "import os\n",
    "\n",
    "# import tensorflow as tf\n",
    "import pyowm\n",
    "from datetime import datetime, timedelta"
   ]
  },
  {
   "cell_type": "markdown",
   "metadata": {},
   "source": [
    "# Fetch Weather Data #"
   ]
  },
  {
   "cell_type": "code",
   "execution_count": 10,
   "metadata": {},
   "outputs": [],
   "source": [
    "with open(\"keys.txt\", \"r\") as file:\n",
    "    key = file.readline().strip()\n",
    "\n",
    "owm = pyowm.OWM(key)"
   ]
  },
  {
   "cell_type": "code",
   "execution_count": 14,
   "metadata": {},
   "outputs": [
    {
     "name": "stdout",
     "output_type": "stream",
     "text": [
      "{'temp': 10.41, 'temp_max': 11.79, 'temp_min': 8.22, 'feels_like': 8.6, 'temp_kf': None}\n"
     ]
    }
   ],
   "source": [
    "mgr = owm.weather_manager()\n",
    "weather = mgr.weather_at_place(\"Tokyo,JP\").weather\n",
    "temp_dict_kelvin = (\n",
    "    weather.temperature()\n",
    ")  # a dict in Kelvin units (default when no temperature units provided)\n",
    "# temp_dict_kelvin[\"temp_min\"]\n",
    "# temp_dict_kelvin[\"temp_max\"]\n",
    "# temp_dict_fahrenheit = weather.temperature(\"fahrenheit\")  # a dict in Fahrenheit units\n",
    "temp_dict_celsius = weather.temperature(\"celsius\")  # guess?\n",
    "display(temp_dict_celsius)"
   ]
  }
 ],
 "metadata": {
  "kernelspec": {
   "display_name": "base",
   "language": "python",
   "name": "python3"
  },
  "language_info": {
   "codemirror_mode": {
    "name": "ipython",
    "version": 3
   },
   "file_extension": ".py",
   "mimetype": "text/x-python",
   "name": "python",
   "nbconvert_exporter": "python",
   "pygments_lexer": "ipython3",
   "version": "3.9.16"
  }
 },
 "nbformat": 4,
 "nbformat_minor": 2
}
